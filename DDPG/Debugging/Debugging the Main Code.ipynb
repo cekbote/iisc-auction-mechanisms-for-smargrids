{
 "cells": [
  {
   "cell_type": "markdown",
   "metadata": {},
   "source": [
    "### Imports"
   ]
  },
  {
   "cell_type": "code",
   "execution_count": 1,
   "metadata": {},
   "outputs": [
    {
     "name": "stderr",
     "output_type": "stream",
     "text": [
      "Using TensorFlow backend.\n"
     ]
    }
   ],
   "source": [
    "# Classes\n",
    "from D_S_Actor import D_S_Actor\n",
    "from D_S_Critic import D_S_Critic\n",
    "from A_R_Actor import A_R_Actor\n",
    "from P_Q_Actor import P_Q_Actor\n",
    "from A_R_P_Q_Critic import A_R_P_Q_Critic\n",
    "from ReplayBuffer import ReplayBuffer\n",
    "from ReplayBuffer_A_R_P_Q import ReplayBuffer_A_R_P_Q"
   ]
  },
  {
   "cell_type": "code",
   "execution_count": 2,
   "metadata": {},
   "outputs": [],
   "source": [
    "# Libraries\n",
    "import tensorflow as tf\n",
    "import collections\n",
    "import random\n",
    "import numpy as np\n",
    "import math\n",
    "import copy"
   ]
  },
  {
   "cell_type": "markdown",
   "metadata": {},
   "source": [
    "### Renewable and Demand Functions"
   ]
  },
  {
   "cell_type": "code",
   "execution_count": 3,
   "metadata": {},
   "outputs": [],
   "source": [
    "# Functions\n",
    "def get_renewable(index, time):\n",
    "    lamb = [[2.667e-07, 0.541, 6.5965, 4.3712], [8.8281, 10.2997, 9.8301, 9.7514], [8.8281, 10.2997, 9.8301, 9.7514]]\n",
    "    energy = np.random.poisson(lam=lamb[index][time], size=1)\n",
    "    energy = min([8, energy])  # clipping the value so that it can't exceede 8\n",
    "    energy = int(math.floor(energy))\n",
    "    return energy\n",
    "\n",
    "\n",
    "# Write this function\n",
    "def get_demand(index, time):\n",
    "    non_adl = [3, 4, 5, 6]\n",
    "    prob_non_adl = [[0.4, 0.3, 0.2, 0.1], [0.1, 0.4, 0.3, 0.2], [0.1, 0.3, 0.4, 0.2], [0.2, 0.3, 0.1, 0.4]]\n",
    "    demand = np.random.choice(non_adl, p=prob_non_adl[time - 1])\n",
    "    return int(demand)"
   ]
  },
  {
   "cell_type": "code",
   "execution_count": 4,
   "metadata": {},
   "outputs": [
    {
     "name": "stdout",
     "output_type": "stream",
     "text": [
      "Renewable 0 : 0\n",
      "Demand 0 : 6\n",
      "---------------------\n",
      "Renewable 1 : 8\n",
      "Demand 1 : 6\n",
      "---------------------\n",
      "Renewable 2 : 8\n",
      "Demand 2 : 6\n",
      "---------------------\n"
     ]
    }
   ],
   "source": [
    "# Testing\n",
    "for i in range(3):\n",
    "    print('Renewable',i,':',get_renewable(i, 0))\n",
    "    print('Demand',i,':', get_demand(i, 0))\n",
    "    print('---------------------')"
   ]
  },
  {
   "cell_type": "markdown",
   "metadata": {},
   "source": [
    "### Initializations"
   ]
  },
  {
   "cell_type": "code",
   "execution_count": 5,
   "metadata": {},
   "outputs": [],
   "source": [
    "# Constants and Lists\n",
    "no_of_agents = 3\n",
    "k = 5\n",
    "grid_price = 20\n",
    "lower_price = grid_price - 5\n",
    "names = ['Agent_1', 'Agent_2', 'Agent_3']  # Names for the agents\n",
    "agent = []\n",
    "total_no_of_iterations = 1000000\n",
    "time_steps_per_day = 4\n",
    "no_of_sub_transactions = 0\n",
    "c1 = 20"
   ]
  },
  {
   "cell_type": "code",
   "execution_count": 6,
   "metadata": {},
   "outputs": [
    {
     "name": "stdout",
     "output_type": "stream",
     "text": [
      "WARNING:tensorflow:From e:\\chanakya\\markets in smartgrids\\config\\venv\\lib\\site-packages\\keras\\backend\\tensorflow_backend.py:66: The name tf.get_default_graph is deprecated. Please use tf.compat.v1.get_default_graph instead.\n",
      "\n",
      "WARNING:tensorflow:From e:\\chanakya\\markets in smartgrids\\config\\venv\\lib\\site-packages\\keras\\backend\\tensorflow_backend.py:541: The name tf.placeholder is deprecated. Please use tf.compat.v1.placeholder instead.\n",
      "\n",
      "WARNING:tensorflow:From e:\\chanakya\\markets in smartgrids\\config\\venv\\lib\\site-packages\\keras\\backend\\tensorflow_backend.py:4432: The name tf.random_uniform is deprecated. Please use tf.random.uniform instead.\n",
      "\n",
      "WARNING:tensorflow:From e:\\chanakya\\markets in smartgrids\\config\\venv\\lib\\site-packages\\keras\\backend\\tensorflow_backend.py:148: The name tf.placeholder_with_default is deprecated. Please use tf.compat.v1.placeholder_with_default instead.\n",
      "\n",
      "WARNING:tensorflow:From e:\\chanakya\\markets in smartgrids\\config\\venv\\lib\\site-packages\\keras\\backend\\tensorflow_backend.py:4409: The name tf.random_normal is deprecated. Please use tf.random.normal instead.\n",
      "\n",
      "WARNING:tensorflow:From e:\\chanakya\\markets in smartgrids\\config\\venv\\lib\\site-packages\\keras\\backend\\tensorflow_backend.py:1033: The name tf.assign_add is deprecated. Please use tf.compat.v1.assign_add instead.\n",
      "\n",
      "WARNING:tensorflow:From e:\\chanakya\\markets in smartgrids\\config\\venv\\lib\\site-packages\\keras\\backend\\tensorflow_backend.py:1020: The name tf.assign is deprecated. Please use tf.compat.v1.assign instead.\n",
      "\n",
      "WARNING:tensorflow:From e:\\chanakya\\markets in smartgrids\\config\\venv\\lib\\site-packages\\keras\\optimizers.py:793: The name tf.train.Optimizer is deprecated. Please use tf.compat.v1.train.Optimizer instead.\n",
      "\n"
     ]
    },
    {
     "name": "stderr",
     "output_type": "stream",
     "text": [
      "E:\\Chanakya\\Markets in Smartgrids\\Config\\Debugging\\A_R_Actor.py:48: UserWarning: Update your `Model` call to the Keras 2 API: `Model(inputs=Tensor(\"in..., outputs=Tensor(\"de...)`\n",
      "  self.model = models.Model(input=inputs, output=outputs)\n",
      "E:\\Chanakya\\Markets in Smartgrids\\Config\\Debugging\\P_Q_Actor.py:50: UserWarning: Update your `Model` call to the Keras 2 API: `Model(inputs=Tensor(\"in..., outputs=[<tf.Tenso...)`\n",
      "  self.model = models.Model(input=inputs, output=[output_p, output_q, output_q_traded])\n",
      "E:\\Chanakya\\Markets in Smartgrids\\Config\\Debugging\\A_R_Actor.py:48: UserWarning: Update your `Model` call to the Keras 2 API: `Model(inputs=Tensor(\"in..., outputs=Tensor(\"de...)`\n",
      "  self.model = models.Model(input=inputs, output=outputs)\n",
      "E:\\Chanakya\\Markets in Smartgrids\\Config\\Debugging\\P_Q_Actor.py:50: UserWarning: Update your `Model` call to the Keras 2 API: `Model(inputs=Tensor(\"in..., outputs=[<tf.Tenso...)`\n",
      "  self.model = models.Model(input=inputs, output=[output_p, output_q, output_q_traded])\n",
      "E:\\Chanakya\\Markets in Smartgrids\\Config\\Debugging\\A_R_Actor.py:48: UserWarning: Update your `Model` call to the Keras 2 API: `Model(inputs=Tensor(\"in..., outputs=Tensor(\"de...)`\n",
      "  self.model = models.Model(input=inputs, output=outputs)\n",
      "E:\\Chanakya\\Markets in Smartgrids\\Config\\Debugging\\P_Q_Actor.py:50: UserWarning: Update your `Model` call to the Keras 2 API: `Model(inputs=Tensor(\"in..., outputs=[<tf.Tenso...)`\n",
      "  self.model = models.Model(input=inputs, output=[output_p, output_q, output_q_traded])\n"
     ]
    }
   ],
   "source": [
    "#  'ADL_Actor': ADL_Actor(), 'ADL_Critic': ADL_Critic(), Add this when ADL is required\n",
    "for i in range(no_of_agents):\n",
    "    agent.append({'index': i, 'name': names[i],\n",
    "                  'D_S_Actor': D_S_Actor(5, 0.01, 0.1), 'D_S_Critic': D_S_Critic(5, 1),\n",
    "                  'A_R_Actor': A_R_Actor((3 + 3*no_of_agents),0.01, 0.1, no_of_agents), 'P_Q_Actor': P_Q_Actor((3 + 4*no_of_agents),0.01, 0.1, no_of_agents), 'A_R_P_Q_Critic': A_R_P_Q_Critic((3 + 3*no_of_agents), (3 + 4*no_of_agents), no_of_agents, no_of_agents, no_of_agents),\n",
    "                  'Battery': 3, 'Renewable': 0,\n",
    "                  'Demand': 0, 'ADL_Value': 0, 'ADL_State': [], 'ADL_Action': [], 'D_S_State': [],\n",
    "                  'D_S_Action': [], 'Current_Demand': 0, 'Main_Reward': 0,\n",
    "                  'A_R_State': [], 'A_R_Action': [], 'P_Q_State': [], 'P_Q_Action': [], 'Via_Matrix': 0,\n",
    "                  'Sub_Reward': 0,\n",
    "                  'A_R_Vector': np.zeros(no_of_agents), 'P_Vector': np.zeros(no_of_agents),\n",
    "                  'Q_Vector': np.zeros(no_of_agents), 'Status': [], 'Customised_Status': [],\n",
    "                  'D_S_Buffer': ReplayBuffer(1), 'A_R_P_Q_Buffer': ReplayBuffer_A_R_P_Q(no_of_agents, no_of_agents, no_of_agents, 1)})"
   ]
  },
  {
   "cell_type": "code",
   "execution_count": 7,
   "metadata": {
    "scrolled": true
   },
   "outputs": [
    {
     "name": "stdout",
     "output_type": "stream",
     "text": [
      "{'index': 0, 'name': 'Agent_1', 'D_S_Actor': <D_S_Actor.D_S_Actor object at 0x00000290287997F0>, 'D_S_Critic': <D_S_Critic.D_S_Critic object at 0x0000029028882E48>, 'A_R_Actor': <A_R_Actor.A_R_Actor object at 0x0000029029ADD6A0>, 'P_Q_Actor': <P_Q_Actor.P_Q_Actor object at 0x0000029029DCD908>, 'A_R_P_Q_Critic': <A_R_P_Q_Critic.A_R_P_Q_Critic object at 0x000002902B012390>, 'Battery': 3, 'Renewable': 0, 'Demand': 0, 'ADL_Value': 0, 'ADL_State': [], 'ADL_Action': [], 'D_S_State': [], 'D_S_Action': [], 'Current_Demand': 0, 'Main_Reward': 0, 'A_R_State': [], 'A_R_Action': [], 'P_Q_State': [], 'P_Q_Action': [], 'Via_Matrix': 0, 'Sub_Reward': 0, 'A_R_Vector': array([0., 0., 0.]), 'P_Vector': array([0., 0., 0.]), 'Q_Vector': array([0., 0., 0.]), 'Status': [], 'Customised_Status': [], 'D_S_Buffer': <ReplayBuffer.ReplayBuffer object at 0x000002902B2D42E8>, 'A_R_P_Q_Buffer': <ReplayBuffer_A_R_P_Q.ReplayBuffer_A_R_P_Q object at 0x000002902B2D4978>}\n"
     ]
    }
   ],
   "source": [
    "# Testing\n",
    "print(agent[0])"
   ]
  },
  {
   "cell_type": "markdown",
   "metadata": {},
   "source": [
    "### Getting Demand, Status Vectors etc"
   ]
  },
  {
   "cell_type": "code",
   "execution_count": 8,
   "metadata": {},
   "outputs": [],
   "source": [
    "buyers = []\n",
    "sellers = []\n",
    "nothing = []\n",
    "status = []  # Whether the agents are buyers or sellers or nothing (1: Sellers, 0:Buyers, -1: Nothing)\n",
    "\n",
    "j = 0 # current time is 0\n",
    "# Getting the D_S_State and storing it in respective variables and replay buffers\n",
    "for i in range(no_of_agents):\n",
    "\n",
    "    agent[i]['D_S_State'] = []\n",
    "    agent[i]['D_S_Action'] = 0\n",
    "    agent[i]['Main_Reward'] = 0\n",
    "    agent[i]['Sub_Reward'] = 0\n",
    "    agent[i]['Renewable'] = get_renewable(i, j % time_steps_per_day)\n",
    "    agent[i]['Demand'] = get_demand(i, j % time_steps_per_day)\n",
    "    agent[i]['D_S_State'] = np.asarray([[j % time_steps_per_day, agent[i]['Battery'], agent[i]['Renewable'],\n",
    "                             agent[i]['Demand'], grid_price]])\n",
    "    agent[i]['D_S_Buffer'].store_transition_state(agent[i]['D_S_State'])"
   ]
  },
  {
   "cell_type": "code",
   "execution_count": 9,
   "metadata": {},
   "outputs": [
    {
     "name": "stdout",
     "output_type": "stream",
     "text": [
      "Agent 0 Summary:\n",
      "{'index': 0, 'name': 'Agent_1', 'D_S_Actor': <D_S_Actor.D_S_Actor object at 0x00000290287997F0>, 'D_S_Critic': <D_S_Critic.D_S_Critic object at 0x0000029028882E48>, 'A_R_Actor': <A_R_Actor.A_R_Actor object at 0x0000029029ADD6A0>, 'P_Q_Actor': <P_Q_Actor.P_Q_Actor object at 0x0000029029DCD908>, 'A_R_P_Q_Critic': <A_R_P_Q_Critic.A_R_P_Q_Critic object at 0x000002902B012390>, 'Battery': 3, 'Renewable': 0, 'Demand': 4, 'ADL_Value': 0, 'ADL_State': [], 'ADL_Action': [], 'D_S_State': array([[ 0,  3,  0,  4, 20]]), 'D_S_Action': 0, 'Current_Demand': 0, 'Main_Reward': 0, 'A_R_State': [], 'A_R_Action': [], 'P_Q_State': [], 'P_Q_Action': [], 'Via_Matrix': 0, 'Sub_Reward': 0, 'A_R_Vector': array([0., 0., 0.]), 'P_Vector': array([0., 0., 0.]), 'Q_Vector': array([0., 0., 0.]), 'Status': [], 'Customised_Status': [], 'D_S_Buffer': <ReplayBuffer.ReplayBuffer object at 0x000002902B2D42E8>, 'A_R_P_Q_Buffer': <ReplayBuffer_A_R_P_Q.ReplayBuffer_A_R_P_Q object at 0x000002902B2D4978>}\n",
      "-----------------------------------------------------------------------------------------------------------------------\n",
      "D_S_State Replay Buffer:\n",
      "[[ 0  3  0  4 20]]\n"
     ]
    }
   ],
   "source": [
    "### Testing \n",
    "print('Agent 0 Summary:')\n",
    "print(agent[0])\n",
    "print('-----------------------------------------------------------------------------------------------------------------------')\n",
    "print('D_S_State Replay Buffer:')\n",
    "print(agent[0]['D_S_Buffer'].states[0])"
   ]
  },
  {
   "cell_type": "markdown",
   "metadata": {},
   "source": [
    "#### Getting D_S_Actions and Storing it, Customized Status and Sellers and Buyers"
   ]
  },
  {
   "cell_type": "code",
   "execution_count": 10,
   "metadata": {},
   "outputs": [
    {
     "name": "stdout",
     "output_type": "stream",
     "text": [
      "WARNING:tensorflow:From e:\\chanakya\\markets in smartgrids\\config\\venv\\lib\\site-packages\\keras\\backend\\tensorflow_backend.py:3005: The name tf.Session is deprecated. Please use tf.compat.v1.Session instead.\n",
      "\n",
      "WARNING:tensorflow:From e:\\chanakya\\markets in smartgrids\\config\\venv\\lib\\site-packages\\keras\\backend\\tensorflow_backend.py:190: The name tf.get_default_session is deprecated. Please use tf.compat.v1.get_default_session instead.\n",
      "\n",
      "WARNING:tensorflow:From e:\\chanakya\\markets in smartgrids\\config\\venv\\lib\\site-packages\\keras\\backend\\tensorflow_backend.py:197: The name tf.ConfigProto is deprecated. Please use tf.compat.v1.ConfigProto instead.\n",
      "\n",
      "WARNING:tensorflow:From e:\\chanakya\\markets in smartgrids\\config\\venv\\lib\\site-packages\\keras\\backend\\tensorflow_backend.py:207: The name tf.global_variables is deprecated. Please use tf.compat.v1.global_variables instead.\n",
      "\n",
      "WARNING:tensorflow:From e:\\chanakya\\markets in smartgrids\\config\\venv\\lib\\site-packages\\keras\\backend\\tensorflow_backend.py:216: The name tf.is_variable_initialized is deprecated. Please use tf.compat.v1.is_variable_initialized instead.\n",
      "\n",
      "WARNING:tensorflow:From e:\\chanakya\\markets in smartgrids\\config\\venv\\lib\\site-packages\\keras\\backend\\tensorflow_backend.py:223: The name tf.variables_initializer is deprecated. Please use tf.compat.v1.variables_initializer instead.\n",
      "\n"
     ]
    }
   ],
   "source": [
    "# Getting the D_S_Actions and storing it in respective variables and replay buffers using the constraints\n",
    "for i in range(no_of_agents):\n",
    "    \n",
    "    agent[i]['D_S_Action'] = agent[i]['D_S_Actor'].action(agent[i]['D_S_State'])\n",
    "    if agent[i]['D_S_Action'][0][0] > 0.999999999:\n",
    "        agent[i]['Current_Demand'] = (np.arctanh(0.999999999) + 18.71497387) * \\\n",
    "                             (agent[i]['Battery'] + agent[i]['Demand']) / 37.42994775 + agent[i]['Renewable'] - agent[i]['Demand']\n",
    "    elif agent[i]['D_S_Action'][0][0] < - 0.999999999:\n",
    "        agent[i]['Current_Demand'] = (np.arctanh(-0.99999999) + 18.71497387) * \\\n",
    "                             (agent[i]['Battery'] + agent[i]['Demand']) / 37.42994775 + agent[i]['Renewable'] - agent[i]['Demand']\n",
    "    else:   \n",
    "        agent[i]['Current_Demand'] = (np.arctanh(agent[i]['D_S_Action'][0][0]) + 18.71497387) * \\\n",
    "                                 (agent[i]['Battery'] + agent[i]['Demand']) / 37.42994775 + agent[i]['Renewable'] - agent[i]['Demand']\n",
    "    \n",
    "    agent[i]['D_S_Buffer'].store_transition_action(agent[i]['D_S_Action'])\n",
    "    agent[i]['Battery'] = max(0, (agent[i]['Renewable'] + agent[i]['Battery'] - agent[i]['Current_Demand'] - agent[i]['Demand']))\n",
    "    if agent[i]['Current_Demand'] < 0:\n",
    "        status.append(0)\n",
    "    elif agent[i]['Current_Demand'] == 0:\n",
    "        status.append(-1)\n",
    "    else:\n",
    "        status.append(1)"
   ]
  },
  {
   "cell_type": "code",
   "execution_count": 11,
   "metadata": {},
   "outputs": [
    {
     "name": "stdout",
     "output_type": "stream",
     "text": [
      "Agent: 0 | Demand: 4 | Renewable: 0 | D_S_Action: [[0.56378144]] | D_S_Action_Value: -0.38061657019192285 | Battery: 0\n",
      "Agent: 1 | Demand: 4 | Renewable: 8 | D_S_Action: [[0.99170774]] | D_S_Action_Value: 8.01255717993055 | Battery: 0\n",
      "Agent: 2 | Demand: 5 | Renewable: 8 | D_S_Action: [[-0.5356195]] | D_S_Action_Value: 6.872189524988791 | Battery: 0\n",
      "-------------------------------------------------\n",
      "Status: [0, 1, 1]\n"
     ]
    }
   ],
   "source": [
    "### Testing\n",
    "for i in range(no_of_agents):\n",
    "    print('Agent:', i, '| Demand:', agent[i]['Demand'], '| Renewable:', agent[i]['Renewable'],'| D_S_Action:', agent[i]['D_S_Actor'].action(agent[i]['D_S_State']), '| D_S_Action_Value:', agent[i]['Current_Demand'], '| Battery:', agent[i]['Battery'])\n",
    "print('-------------------------------------------------')\n",
    "print('Status:', status)"
   ]
  },
  {
   "cell_type": "code",
   "execution_count": 12,
   "metadata": {},
   "outputs": [],
   "source": [
    "# Customized Status\n",
    "for i in range(no_of_agents):\n",
    "    agent[i]['Status'] = status\n",
    "    status_1 = status\n",
    "    if agent[i]['Current_Demand'] < 0:\n",
    "        for l in range(len(status)):\n",
    "            if status_1[i] == (-1):\n",
    "                status_1[i] = 0\n",
    "    elif agent[i]['Current_Demand'] == 0:\n",
    "        pass\n",
    "    else:\n",
    "        for l in range(len(status)):\n",
    "            if status_1[i] == (-1):\n",
    "                status_1[i] = 1\n",
    "    agent[i]['Customised_Status'] = np.array(status_1)"
   ]
  },
  {
   "cell_type": "code",
   "execution_count": 13,
   "metadata": {},
   "outputs": [
    {
     "name": "stdout",
     "output_type": "stream",
     "text": [
      "Agent: 0 | Current_Demand: -0.38061657019192285 | Customized_Status: [0 1 1]\n",
      "Agent: 1 | Current_Demand: 8.01255717993055 | Customized_Status: [0 1 1]\n",
      "Agent: 2 | Current_Demand: 6.872189524988791 | Customized_Status: [0 1 1]\n"
     ]
    }
   ],
   "source": [
    "### Testing \n",
    "for i in range(no_of_agents):\n",
    "     print('Agent:', i, '| Current_Demand:', agent[i]['Current_Demand'], '| Customized_Status:',  agent[i]['Customised_Status']) "
   ]
  },
  {
   "cell_type": "code",
   "execution_count": 14,
   "metadata": {},
   "outputs": [],
   "source": [
    "# Separating into Buyers, Sellers or Nothing and updating the Via_Matrix\n",
    "for i in range(no_of_agents):\n",
    "    if agent[i]['Current_Demand'] < 0:\n",
    "        agent[i]['Via_Matrix'] = np.diag(agent[i]['Customised_Status'])\n",
    "        buyers.append(agent[i])\n",
    "    elif agent[i]['Current_Demand'] == 0:\n",
    "        agent[i]['Via_Matrix'] = np.diag(agent[i]['Customised_Status'])\n",
    "        nothing.append(agent[i])\n",
    "    else:\n",
    "        agent[i]['Via_Matrix'] = np.eye(len(agent[i]['Customised_Status'])) - np.diag(\n",
    "            agent[i]['Customised_Status'])\n",
    "        agent[i]['Customised_Status'] = 1 - np.array(agent[i]['Customised_Status'])  \n",
    "        sellers.append(agent[i])"
   ]
  },
  {
   "cell_type": "code",
   "execution_count": 15,
   "metadata": {},
   "outputs": [
    {
     "name": "stdout",
     "output_type": "stream",
     "text": [
      "Buyer: 0 | Current_Demand: -0.38061657019192285 | Customized_Status: [0 1 1] | Via Matrix: [[0 0 0]\n",
      " [0 1 0]\n",
      " [0 0 1]]\n",
      "Seller: 1 | Current_Demand: 8.01255717993055 | Customized_Status: [1 0 0] | Via Matrix: [[1. 0. 0.]\n",
      " [0. 0. 0.]\n",
      " [0. 0. 0.]]\n",
      "Seller: 2 | Current_Demand: 6.872189524988791 | Customized_Status: [1 0 0] | Via Matrix: [[1. 0. 0.]\n",
      " [0. 0. 0.]\n",
      " [0. 0. 0.]]\n"
     ]
    }
   ],
   "source": [
    "### Testing Sellers and Buyers\n",
    "for i in range(len(buyers)):\n",
    "    print('Buyer:', buyers[i]['index'], '| Current_Demand:', buyers[i]['Current_Demand'], '| Customized_Status:',  buyers[i]['Customised_Status'], '| Via Matrix:', buyers[i]['Via_Matrix'])\n",
    "for i in range(len(sellers)):\n",
    "    print('Seller:',sellers[i]['index'] , '| Current_Demand:', sellers[i]['Current_Demand'], '| Customized_Status:',  sellers[i]['Customised_Status'], '| Via Matrix:', sellers[i]['Via_Matrix'])\n",
    "        "
   ]
  },
  {
   "cell_type": "markdown",
   "metadata": {},
   "source": [
    "### Sub Transactions"
   ]
  },
  {
   "cell_type": "code",
   "execution_count": 16,
   "metadata": {},
   "outputs": [],
   "source": [
    "# Storing in the buffer\n",
    "for m in range(len(sellers)):\n",
    "    sellers[m]['A_R_P_Q_Buffer'].store_transition_via_matrix(sellers[m]['Via_Matrix'])\n",
    "    sellers[m]['A_R_P_Q_Buffer'].store_transition_customized_status(sellers[m]['Customised_Status'])\n",
    "for m in range(len(buyers)):\n",
    "    buyers[m]['A_R_P_Q_Buffer'].store_transition_via_matrix(buyers[m]['Via_Matrix'])\n",
    "    buyers[m]['A_R_P_Q_Buffer'].store_transition_customized_status(buyers[m]['Customised_Status'])"
   ]
  },
  {
   "cell_type": "markdown",
   "metadata": {},
   "source": [
    "#### A_R_Actions Sellers (Asumming its the first time step for the sellers)"
   ]
  },
  {
   "cell_type": "code",
   "execution_count": 17,
   "metadata": {},
   "outputs": [],
   "source": [
    "# A_R for Sellers\n",
    "# If the Sub-Transaction time is 0, Ignore the A_R_Network, the action would be a zero everywhere\n",
    "k = 0 # for the first time step\n",
    "if k == 0:\n",
    "    for m in range(len(sellers)):\n",
    "        sellers[m]['P_Q_State'] = [k, sellers[m]['Demand'], sellers[m]['Current_Demand']]\n",
    "        sellers[m]['P_Q_State'].extend(sellers[m]['Customised_Status'])\n",
    "        sellers[m]['P_Q_State'].extend(sellers[m]['P_Vector'])\n",
    "        sellers[m]['P_Q_State'].extend(sellers[m]['Q_Vector'])\n",
    "        sellers[m]['A_R_State'] = sellers[m]['P_Q_State']\n",
    "\n",
    "        sellers[m]['A_R_P_Q_Buffer'].store_transition_state_a_r(sellers[m]['P_Q_State'])\n",
    "        sellers[m]['A_R_P_Q_Buffer'].store_transition_action_a_r(np.zeros(no_of_agents))\n",
    "\n",
    "        sellers[m]['P_Q_State'].extend(np.zeros(no_of_agents))\n",
    "        sellers[m]['A_R_P_Q_Buffer'].store_transition_state_p_q(sellers[m]['P_Q_State'])\n",
    "        sellers[m]['P_Q_State'] = np.asarray([sellers[m]['P_Q_State']])  "
   ]
  },
  {
   "cell_type": "code",
   "execution_count": 18,
   "metadata": {},
   "outputs": [
    {
     "name": "stdout",
     "output_type": "stream",
     "text": [
      "Sellers: 1 | A_R_State: [0, 4, 8.01255717993055, 1, 0, 0, 0.0, 0.0, 0.0, 0.0, 0.0, 0.0, 0.0, 0.0, 0.0] | P_Q_State: [[0.         4.         8.01255718 1.         0.         0.\n",
      "  0.         0.         0.         0.         0.         0.\n",
      "  0.         0.         0.        ]]\n",
      "Sellers: 2 | A_R_State: [0, 5, 6.872189524988791, 1, 0, 0, 0.0, 0.0, 0.0, 0.0, 0.0, 0.0, 0.0, 0.0, 0.0] | P_Q_State: [[0.         5.         6.87218952 1.         0.         0.\n",
      "  0.         0.         0.         0.         0.         0.\n",
      "  0.         0.         0.        ]]\n"
     ]
    }
   ],
   "source": [
    "### Testing \n",
    "for m in range(len(sellers)):\n",
    "    print('Sellers:', sellers[m]['index'], '| A_R_State:', sellers[m]['A_R_State'], '| P_Q_State:', sellers[m]['P_Q_State'])"
   ]
  },
  {
   "cell_type": "markdown",
   "metadata": {},
   "source": [
    "#### P_Q_Action for the Sellers"
   ]
  },
  {
   "cell_type": "code",
   "execution_count": 19,
   "metadata": {},
   "outputs": [
    {
     "name": "stdout",
     "output_type": "stream",
     "text": [
      "Action P: [[-0.9597747   0.46511024 -0.9778304 ]] | Action Q: [[0.17435935 0.00447799 0.8211626 ]] | Action Q_Traded: [[-0.99992037]]\n",
      "Action P: [-0.95977467  0.          0.        ] | Action Q: [1. 0. 0.] | Action Q_Traded: [-0.99992037]\n",
      "Action_Q_Traded_Value [2.92189488 0.         0.        ]\n",
      "------------------------------------------------\n",
      "Action P: [[-0.9998849   0.65140986  0.8648633 ]] | Action Q: [[0.19835323 0.794137   0.00750978]] | Action Q_Traded: [[-0.82434446]]\n",
      "Action P: [-0.9998849  0.         0.       ] | Action Q: [1. 0. 0.] | Action Q_Traded: [-0.82434446]\n",
      "Action_Q_Traded_Value [3.22123992 0.         0.        ]\n",
      "------------------------------------------------\n"
     ]
    }
   ],
   "source": [
    "for m in range((len(sellers))):\n",
    "    action_p, action_q, action_q_traded = sellers[m]['P_Q_Actor'].action(sellers[m]['P_Q_State'])\n",
    "    print('Action P:', action_p, '| Action Q:', action_q, '| Action Q_Traded:', action_q_traded)\n",
    "\n",
    "    action_p = np.matmul(sellers[m]['Via_Matrix'], action_p[0])\n",
    "    action_q = np.matmul(sellers[m]['Via_Matrix'], action_q[0]) / np.matmul(\n",
    "        np.matmul(sellers[m]['Via_Matrix'], action_q[0]), sellers[m]['Customised_Status'])\n",
    "    action_q_traded = action_q_traded[0]\n",
    "    print('Action P:', action_p, '| Action Q:', action_q, '| Action Q_Traded:', action_q_traded)\n",
    "\n",
    "\n",
    "    sellers[m]['A_R_P_Q_Buffer'].store_transition_action_p_q(action_p, action_q, action_q_traded)\n",
    "    action_p = ((np.arctanh(action_p) + 18.714973875118524) / 37.42994775023705) * (grid_price - lower_price) + lower_price\n",
    "    action_q = ((np.arctanh(action_q_traded) + 18.714973875118524) / 37.42994775023705) * action_q * \\\n",
    "                sellers[m]['Current_Demand']\n",
    "    action_p = np.matmul(sellers[m]['Via_Matrix'], action_p)\n",
    "    action_q = np.matmul(sellers[m]['Via_Matrix'], action_q)\n",
    "    print('Action_Q_Traded_Value', action_q)\n",
    "    print('------------------------------------------------')\n",
    "    for n in range(len(buyers)):\n",
    "        buyers[n]['P_Vector'][sellers[m]['index']] = action_p[buyers[n]['index']]\n",
    "        buyers[n]['Q_Vector'][sellers[m]['index']] = action_q[buyers[n]['index']]"
   ]
  },
  {
   "cell_type": "code",
   "execution_count": 20,
   "metadata": {},
   "outputs": [
    {
     "name": "stdout",
     "output_type": "stream",
     "text": [
      "P_Vector: [ 0.         17.2404426  16.84792664]\n",
      "Q_Vector: [0.         2.92189488 3.22123992]\n",
      "---------------------------------\n"
     ]
    }
   ],
   "source": [
    "### Testing\n",
    "for n in range(len(buyers)):\n",
    "    print('P_Vector:', buyers[n]['P_Vector'])\n",
    "    print('Q_Vector:', buyers[n]['Q_Vector'])\n",
    "    print('---------------------------------')"
   ]
  },
  {
   "cell_type": "markdown",
   "metadata": {},
   "source": [
    "#### A_R_Action of the buyers"
   ]
  },
  {
   "cell_type": "code",
   "execution_count": 21,
   "metadata": {},
   "outputs": [
    {
     "name": "stdout",
     "output_type": "stream",
     "text": [
      "A_R_State: [0, 4, -0.38061657019192285, 0, 1, 1, 0.0, 17.24044260051503, 16.84792664240576, 0.0, 2.9218948788154964, 3.2212399179571607]\n",
      "A_R_Action: [[0.9139784  0.98560035 0.65795666]]\n",
      "A_R_Action: [0.         0.98560035 0.65795666]\n",
      "A_R_Vector: [False  True  True]\n",
      "P_Q_State: [0.0, 4.0, -0.38061657019192285, 0.0, 1.0, 1.0, 0.0, 17.24044260051503, 16.84792664240576, 0.0, 2.9218948788154964, 3.2212399179571607, 0.0, 0.9856003522872925, 0.6579566597938538]\n",
      "---------------------------------------------\n",
      "Sellers: 1 | Sub Reward: 50.37476094295739 | Current_Demand: 8.01255717993055\n",
      "Sellers: 1 | Sub Reward: 50.37476094295739 | Current_Demand: 5.090662301115053\n",
      "--------------------------------------------------------------------------\n",
      "Sellers: 2 | Sub Reward: 54.271213835331395 | Current_Demand: 6.872189524988791\n",
      "Sellers: 2 | Sub Reward: 54.271213835331395 | Current_Demand: 3.65094960703163\n",
      "--------------------------------------------------------------------------\n",
      "Buyers: 0 | Sub_Reward: 0 | Current Demand: -0.38061657019192285\n",
      "Buyers: 0 | Sub_Reward: -18.208201379577773 | Current Demand: 0\n"
     ]
    }
   ],
   "source": [
    "# A_R_Action for Buyers\n",
    "for m in range(len(buyers)):\n",
    "    buyers[m]['A_R_State'] = [k, buyers[m]['Demand'], buyers[m]['Current_Demand']]\n",
    "    buyers[m]['A_R_State'].extend(buyers[m]['Customised_Status'])\n",
    "    buyers[m]['A_R_State'].extend(buyers[m]['P_Vector'])\n",
    "    buyers[m]['A_R_State'].extend(buyers[m]['Q_Vector'])\n",
    "    print('A_R_State:', buyers[m]['A_R_State'])\n",
    "\n",
    "    buyers[m]['A_R_P_Q_Buffer'].store_transition_state_a_r(buyers[m]['A_R_State'])\n",
    "    buyers[m]['A_R_State'] = np.asarray([buyers[m]['A_R_State']])\n",
    "    \n",
    "    buyers[m]['A_R_Action'] = buyers[m]['A_R_Actor'].action(buyers[m]['A_R_State'])\n",
    "    print('A_R_Action:', buyers[m]['A_R_Action'])\n",
    "    buyers[m]['A_R_Action'] = np.matmul(buyers[m]['Via_Matrix'], buyers[m]['A_R_Action'][0])\n",
    "    print('A_R_Action:', buyers[m]['A_R_Action'])\n",
    "    buyers[m]['A_R_Vector'] = np.asarray(buyers[m]['A_R_Action']) > 0.5\n",
    "    print('A_R_Vector:', buyers[m]['A_R_Vector'] )\n",
    "\n",
    "    buyers[m]['P_Q_State'] = list(buyers[m]['A_R_State'][0])\n",
    "    buyers[m]['P_Q_State'].extend(buyers[m]['A_R_Action'])\n",
    "    print('P_Q_State:', buyers[m]['P_Q_State'])\n",
    "    print('---------------------------------------------')\n",
    "\n",
    "    buyers[m]['A_R_P_Q_Buffer'].store_transition_action_a_r(buyers[m]['A_R_Action'])\n",
    "    buyers[m]['A_R_P_Q_Buffer'].store_transition_state_p_q(buyers[m]['P_Q_State'])\n",
    "    buyers[m]['P_Q_State'] = np.asarray([buyers[m]['P_Q_State']])\n",
    "\n",
    "    total_q = 0\n",
    "    reward = 0\n",
    "    \n",
    "    \n",
    "    for n in range(len(sellers)):\n",
    "        # The P and Q vector of the buyers have to be the P and Q values of each seller. That means that\n",
    "        # the  each P would be positive and each Q would be positive\n",
    "        sellers[n]['Sub_Reward'] = sellers[n]['Sub_Reward'] + buyers[m]['Q_Vector'][sellers[n]['index']] * \\\n",
    "                                   buyers[m]['P_Vector'][sellers[n]['index']] * \\\n",
    "                                   buyers[m]['A_R_Vector'][sellers[n]['index']]\n",
    "        print('Sellers:', sellers[n]['index'], '| Sub Reward:', sellers[n]['Sub_Reward'], '| Current_Demand:', sellers[n]['Current_Demand'])\n",
    "\n",
    "        # The negative sign makes sense as the values of the Q_vector are positive and the current demand\n",
    "        # is positive\n",
    "        sellers[n]['Current_Demand'] = max(0, sellers[n]['Current_Demand'] - buyers[m]['Q_Vector'][\n",
    "            sellers[n]['index']] * buyers[m]['A_R_Vector'][sellers[n]['index']])\n",
    "        print('Sellers:', sellers[n]['index'], '| Sub Reward:', sellers[n]['Sub_Reward'], '| Current_Demand:', sellers[n]['Current_Demand'])\n",
    "\n",
    "        print('--------------------------------------------------------------------------')\n",
    "        # The positive sign makes sense as the values of the Q_vector are positive\n",
    "        total_q = total_q + buyers[m]['Q_Vector'][sellers[n]['index']] * buyers[m]['A_R_Vector'][\n",
    "            sellers[n]['index']]\n",
    "\n",
    "        # The negative sign makes sense as the values of the Q_vector are positive\n",
    "        reward = reward - buyers[m]['Q_Vector'][sellers[n]['index']] * buyers[m]['P_Vector'][\n",
    "            sellers[n]['index']] * \\\n",
    "                 buyers[m]['A_R_Vector'][sellers[n]['index']]\n",
    "    \n",
    "    print('Buyers:', buyers[m]['index'], '| Sub_Reward:', buyers[m]['Sub_Reward'], '| Current Demand:', buyers[m]['Current_Demand'])\n",
    "    if (-total_q) < buyers[m]['Current_Demand']:\n",
    "        # buyers[m]['Current_Demand'] is negative and total_q is positive. Reward is increased as the excess\n",
    "        # energy is sold back to the main grid.\n",
    "        reward = reward + (total_q + buyers[m]['Current_Demand']) * lower_price\n",
    "        buyers[m]['Sub_Reward'] = buyers[m]['Sub_Reward'] + reward\n",
    "        buyers[m]['Current_Demand'] = 0\n",
    "\n",
    "    else:\n",
    "        buyers[m]['Sub_Reward'] = buyers[m]['Sub_Reward'] + reward\n",
    "        buyers[m]['Current_Demand'] = buyers[m]['Current_Demand'] + total_q\n",
    "    \n",
    "    print('Buyers:', buyers[m]['index'], '| Sub_Reward:', buyers[m]['Sub_Reward'], '| Current Demand:', buyers[m]['Current_Demand'])"
   ]
  },
  {
   "cell_type": "markdown",
   "metadata": {},
   "source": [
    "#### P_Q_Action of the Buyers"
   ]
  },
  {
   "cell_type": "code",
   "execution_count": 22,
   "metadata": {},
   "outputs": [
    {
     "name": "stdout",
     "output_type": "stream",
     "text": [
      "Action P: [ 0.         -0.99626505  0.99967837] | Action Q: [0.         0.59210381 0.40789619] | Action Q_Traded: [-0.9998122]\n",
      "Action P: [ 0.         17.08046296 18.08343025] | Action Q: [ 0.         -0.73879502 -0.50895074] | Action Q_Traded: [-0.9998122]\n",
      "Action_Q_Traded_Value [ 0.         -0.73879502 -0.50895074]\n",
      "------------------------------------------------\n"
     ]
    }
   ],
   "source": [
    "buyers[0]['Current_Demand'] = -2 # Synthetic Demand\n",
    "for m in range(len(buyers)):\n",
    "\n",
    "    if k == (no_of_sub_transactions - 1):\n",
    "        buyers[m]['A_R_P_Q_Buffer'].store_transition_action_p_q(np.zeros(no_of_agents),\n",
    "                                                                np.zeros(no_of_agents), np.zeros(1))\n",
    "\n",
    "    else:\n",
    "        action_p, action_q, action_q_traded = buyers[m]['P_Q_Actor'].action(buyers[m]['P_Q_State'])\n",
    "\n",
    "    action_p = np.matmul(buyers[m]['Via_Matrix'], action_p[0])\n",
    "    action_q = np.matmul(buyers[m]['Via_Matrix'], action_q[0]) / np.matmul(\n",
    "        np.matmul(buyers[m]['Via_Matrix'], action_q[0]), buyers[m]['Customised_Status'])\n",
    "    action_q_traded = action_q_traded[0]\n",
    "    print('Action P:', action_p, '| Action Q:', action_q, '| Action Q_Traded:', action_q_traded)\n",
    "\n",
    "    buyers[m]['A_R_P_Q_Buffer'].store_transition_action_p_q(action_p, action_q, action_q_traded)\n",
    "    action_p = ((np.arctanh(action_p) + 18.714973875118524) / 37.42994775023705) * (grid_price - lower_price) + lower_price\n",
    "    action_q = -((np.arctanh(action_q_traded) + 18.714973875118524) / 37.42994775023705) * action_q * \\\n",
    "               buyers[m]['Current_Demand'] + action_q * buyers[m]['Current_Demand']\n",
    "    action_p = np.matmul(buyers[m]['Via_Matrix'], action_p)\n",
    "    action_q = np.matmul(buyers[m]['Via_Matrix'], action_q)\n",
    "    \n",
    "    print('Action P:', action_p, '| Action Q:', action_q, '| Action Q_Traded:', action_q_traded)\n",
    "    print('Action_Q_Traded_Value', action_q)\n",
    "    print('------------------------------------------------')\n",
    "\n",
    "    for n in range(len(sellers)):\n",
    "        sellers[n]['P_Vector'][buyers[m]['index']] = action_p[sellers[n]['index']]\n",
    "        sellers[n]['Q_Vector'][buyers[m]['index']] = action_q[sellers[n]['index']]"
   ]
  },
  {
   "cell_type": "code",
   "execution_count": 23,
   "metadata": {},
   "outputs": [
    {
     "name": "stdout",
     "output_type": "stream",
     "text": [
      "P_Vector: [17.08046296  0.          0.        ]\n",
      "Q_Vector: [-0.73879502  0.          0.        ]\n",
      "---------------------------------\n",
      "P_Vector: [18.08343025  0.          0.        ]\n",
      "Q_Vector: [-0.50895074  0.          0.        ]\n",
      "---------------------------------\n"
     ]
    }
   ],
   "source": [
    "### Testing\n",
    "for n in range(len(sellers)):\n",
    "    print('P_Vector:', sellers[n]['P_Vector'])\n",
    "    print('Q_Vector:', sellers[n]['Q_Vector'])\n",
    "    print('---------------------------------')"
   ]
  },
  {
   "cell_type": "markdown",
   "metadata": {},
   "source": [
    "#### A_R_Action of the Sellers for any other tine step"
   ]
  },
  {
   "cell_type": "code",
   "execution_count": 24,
   "metadata": {},
   "outputs": [
    {
     "name": "stdout",
     "output_type": "stream",
     "text": [
      "A_R_State: [0, 4, 5.090662301115053, 1, 0, 0, 17.080462958791767, 0.0, 0.0, -0.7387950163096526, 0.0, 0.0]\n",
      "A_R_Action: [[0.5937217  0.20573992 0.00752104]]\n",
      "A_R_Action: [0.59372169 0.         0.        ]\n",
      "A_R_Vector: [ True False False]\n",
      "P_Q_State: [0.0, 4.0, 5.090662301115053, 1.0, 0.0, 0.0, 17.080462958791767, 0.0, 0.0, -0.7387950163096526, 0.0, 0.0, 0.5937216877937317, 0.0, 0.0]\n",
      "---------------------------------------------\n",
      "Buyers: 0 | Sub Reward: -30.827162289794753 | Current_Demand: -2\n",
      "Buyers: 0 | Sub Reward: -30.827162289794753 | Current_Demand: -1.2612049836903474\n",
      "--------------------------------------------------------------------\n",
      "Sellers: 1 | Sub_Reward: 50.37476094295739 | Current Demand: 5.090662301115053\n",
      "Sellers: 1 | Sub_Reward: 62.993721853174364 | Current Demand: 4.3518672848054\n",
      "-----------------------------------------------------------------------------------------------------------------------------\n",
      "A_R_State: [0, 5, 3.65094960703163, 1, 0, 0, 18.083430247398102, 0.0, 0.0, -0.5089507360249421, 0.0, 0.0]\n",
      "A_R_Action: [[1.3010649e-04 2.9036233e-01 8.1932002e-01]]\n",
      "A_R_Action: [0.00013011 0.         0.        ]\n",
      "A_R_Vector: [False False False]\n",
      "P_Q_State: [0.0, 5.0, 3.65094960703163, 1.0, 0.0, 0.0, 18.083430247398102, 0.0, 0.0, -0.5089507360249421, 0.0, 0.0, 0.00013010649126954377, 0.0, 0.0]\n",
      "---------------------------------------------\n",
      "Buyers: 0 | Sub Reward: -30.827162289794753 | Current_Demand: -1.2612049836903474\n",
      "Buyers: 0 | Sub Reward: -30.827162289794753 | Current_Demand: -1.2612049836903474\n",
      "--------------------------------------------------------------------\n",
      "Sellers: 2 | Sub_Reward: 54.271213835331395 | Current Demand: 3.65094960703163\n",
      "Sellers: 2 | Sub_Reward: 54.271213835331395 | Current Demand: 3.65094960703163\n",
      "-----------------------------------------------------------------------------------------------------------------------------\n"
     ]
    }
   ],
   "source": [
    "for m in range(len(sellers)):\n",
    "    sellers[m]['A_R_State'] = [k, sellers[m]['Demand'], sellers[m]['Current_Demand']]\n",
    "    sellers[m]['A_R_State'].extend(sellers[m]['Customised_Status'])\n",
    "    sellers[m]['A_R_State'].extend(sellers[m]['P_Vector'])\n",
    "    sellers[m]['A_R_State'].extend(sellers[m]['Q_Vector'])\n",
    "    print('A_R_State:', sellers[m]['A_R_State'])\n",
    "\n",
    "    sellers[m]['A_R_P_Q_Buffer'].store_transition_state_a_r(sellers[m]['A_R_State'])\n",
    "    sellers[m]['A_R_State'] = np.asarray([sellers[m]['A_R_State']])\n",
    "\n",
    "    sellers[m]['A_R_Action'] = sellers[m]['A_R_Actor'].action(sellers[m]['A_R_State'])\n",
    "    print('A_R_Action:', sellers[m]['A_R_Action'])\n",
    "    sellers[m]['A_R_Action'] = np.matmul(sellers[m]['Via_Matrix'], sellers[m]['A_R_Action'][0])\n",
    "    print('A_R_Action:', sellers[m]['A_R_Action'])\n",
    "    sellers[m]['A_R_Vector'] = np.asarray(sellers[m]['A_R_Action']) > 0.5\n",
    "    print('A_R_Vector:', sellers[m]['A_R_Vector'])\n",
    "\n",
    "    sellers[m]['P_Q_State'] = list(sellers[m]['A_R_State'][0])\n",
    "    sellers[m]['P_Q_State'].extend(sellers[m]['A_R_Action'])\n",
    "\n",
    "    sellers[m]['A_R_P_Q_Buffer'].store_transition_action_a_r(sellers[m]['A_R_Action'])\n",
    "    sellers[m]['A_R_P_Q_Buffer'].store_transition_state_p_q(sellers[m]['P_Q_State'])\n",
    "    print('P_Q_State:', sellers[m]['P_Q_State'])\n",
    "    print('---------------------------------------------')\n",
    "    \n",
    "    total_q = 0\n",
    "    reward = 0\n",
    "    \n",
    "    for n in range(len(buyers)):\n",
    "        # The P and Q vector of the Sellers have to be the P and Q values of each buyer. That means that\n",
    "        # the  each P would be positive and each Q would be negative\n",
    "        buyers[n]['Sub_Reward'] = buyers[n]['Sub_Reward'] + sellers[m]['Q_Vector'][buyers[n]['index']] * \\\n",
    "                                  sellers[m]['P_Vector'][buyers[n]['index']] * \\\n",
    "                                  sellers[m]['A_R_Vector'][buyers[n]['index']]\n",
    "        print('Buyers:', buyers[n]['index'], '| Sub Reward:', buyers[n]['Sub_Reward'], '| Current_Demand:', buyers[n]['Current_Demand'])\n",
    "\n",
    "        # The negative sign makes sense as the values of the Q_vector are negative and the current demand\n",
    "        # is positive\n",
    "        buyers[n]['Current_Demand'] = min(0, buyers[n]['Current_Demand'] - sellers[m]['Q_Vector'][\n",
    "            buyers[n]['index']] * sellers[m]['A_R_Vector'][buyers[n]['index']])\n",
    "        print('Buyers:', buyers[n]['index'], '| Sub Reward:', buyers[n]['Sub_Reward'], '| Current_Demand:', buyers[n]['Current_Demand'])\n",
    "        \n",
    "        print('--------------------------------------------------------------------')\n",
    "\n",
    "        # The negative sign makes sense as the values of the Q_vector are negative\n",
    "        total_q = total_q - sellers[m]['Q_Vector'][buyers[n]['index']] * sellers[m]['A_R_Vector'][buyers[n]['index']]\n",
    "\n",
    "        # The negative sign makes sense as the values of the Q_vector are negative\n",
    "        reward = reward - sellers[m]['Q_Vector'][buyers[n]['index']] * sellers[m]['P_Vector'][\n",
    "            buyers[n]['index']] * sellers[m]['A_R_Vector'][buyers[n]['index']]\n",
    "    \n",
    "    print('Sellers:', sellers[m]['index'], '| Sub_Reward:', sellers[m]['Sub_Reward'], '| Current Demand:', sellers[m]['Current_Demand'])\n",
    "    if total_q > sellers[m]['Current_Demand']:\n",
    "        # The reward is decreased as the excess energy sold is bought from the main grid.\n",
    "        reward = reward - (total_q - sellers[m]['Current_Demand']) * grid_price\n",
    "        sellers[m]['Sub_Reward'] = sellers[m]['Sub_Reward'] + reward\n",
    "        sellers[m]['Current_Demand'] = 0\n",
    "\n",
    "    else:\n",
    "        sellers[m]['Sub_Reward'] = sellers[m]['Sub_Reward'] + reward\n",
    "        sellers[m]['Current_Demand'] = sellers[m]['Current_Demand'] - total_q\n",
    "    print('Sellers:', sellers[m]['index'], '| Sub_Reward:', sellers[m]['Sub_Reward'], '| Current Demand:', sellers[m]['Current_Demand'])\n",
    "    print('-----------------------------------------------------------------------------------------------------------------------------')"
   ]
  },
  {
   "cell_type": "code",
   "execution_count": null,
   "metadata": {},
   "outputs": [],
   "source": []
  },
  {
   "cell_type": "code",
   "execution_count": null,
   "metadata": {},
   "outputs": [],
   "source": []
  }
 ],
 "metadata": {
  "kernelspec": {
   "display_name": "Python 3",
   "language": "python",
   "name": "python3"
  },
  "language_info": {
   "codemirror_mode": {
    "name": "ipython",
    "version": 3
   },
   "file_extension": ".py",
   "mimetype": "text/x-python",
   "name": "python",
   "nbconvert_exporter": "python",
   "pygments_lexer": "ipython3",
   "version": "3.6.8rc1"
  }
 },
 "nbformat": 4,
 "nbformat_minor": 2
}
